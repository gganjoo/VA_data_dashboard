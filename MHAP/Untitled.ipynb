{
 "cells": [
  {
   "cell_type": "code",
   "execution_count": null,
   "id": "starting-uruguay",
   "metadata": {},
   "outputs": [],
   "source": []
  },
  {
   "cell_type": "code",
   "execution_count": 5,
   "id": "smart-consumer",
   "metadata": {},
   "outputs": [
    {
     "data": {
      "text/plain": [
       "[1373602072,\n",
       " 1232804757,\n",
       " 9600726439,\n",
       " 908275015,\n",
       " 7382178904,\n",
       " 329390125,\n",
       " 9104442200,\n",
       " 9839540989,\n",
       " 5419418322,\n",
       " 6578312086,\n",
       " 5923089223,\n",
       " 1290311265,\n",
       " 2352354049,\n",
       " 9404586468,\n",
       " 7390758611,\n",
       " 4389679928,\n",
       " 157935416,\n",
       " 6118269419,\n",
       " 1614437356,\n",
       " 641527834,\n",
       " 5299391076,\n",
       " 1466066740,\n",
       " 1549640677,\n",
       " 7100769650,\n",
       " 5225672011,\n",
       " 8733025755,\n",
       " 1935045437,\n",
       " 8348750139,\n",
       " 2429504829,\n",
       " 6176091927,\n",
       " 4124636118,\n",
       " 8477146072,\n",
       " 2549365229,\n",
       " 5669238265,\n",
       " 1024825595,\n",
       " 8920789324,\n",
       " 1295540858,\n",
       " 766415498,\n",
       " 8349224819,\n",
       " 3278271661,\n",
       " 1234567890]"
      ]
     },
     "execution_count": 5,
     "metadata": {},
     "output_type": "execute_result"
    }
   ],
   "source": [
    "from datetime import datetime\n",
    "import math\n",
    "import pandas as pd\n",
    "import matplotlib.pyplot as plt\n",
    "\n",
    "soldier_data = pd.read_csv('Soldier_data_fake1_20210409 copy.csv')\n",
    "\n",
    "class Roster:\n",
    "    '''Creates a dictionary of patient data'''\n",
    "    def __init__(self, dataframe):\n",
    "        dataframe['dodid'] = dataframe['dodid'].fillna(0).astype('int')\n",
    "        dataframe = dataframe.set_index('dodid')\n",
    "        self.roster = dataframe.to_dict(orient = 'index')\n",
    "\n",
    "    def __str__(self):\n",
    "        return str(self.roster)\n",
    "\n",
    "    def __str__(self):\n",
    "        return str(self.roster)\n",
    "\n",
    "ros = Roster(soldier_data)\n",
    "(list(ros.roster.keys()))\n",
    "\n",
    "\n",
    "\n"
   ]
  },
  {
   "cell_type": "code",
   "execution_count": null,
   "id": "noticed-advertiser",
   "metadata": {},
   "outputs": [],
   "source": [
    "class Roster:\n",
    "    '''Creates a dictionary of patient data'''\n",
    "    def __init__(self, dataframe):\n",
    "        dataframe['dodid'] = dataframe['dodid'].fillna(0).astype('int')\n",
    "        dataframe = dataframe.set_index('dodid')\n",
    "        self.roster = dataframe.to_dict(orient = 'index')\n",
    "\n",
    "    def __str__(self):\n",
    "        return str(self.roster)\n",
    "\n",
    "ros = Roster(soldier_data)\n",
    "print(list(ros.roster.keys()))\n",
    "id = int(input('Enter a dodid from above to see the data ', ))"
   ]
  },
  {
   "cell_type": "code",
   "execution_count": null,
   "id": "artificial-corporation",
   "metadata": {},
   "outputs": [],
   "source": []
  }
 ],
 "metadata": {
  "kernelspec": {
   "display_name": "Python 3",
   "language": "python",
   "name": "python3"
  }
 },
 "nbformat": 4,
 "nbformat_minor": 5
}
